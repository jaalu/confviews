{
 "cells": [
  {
   "cell_type": "code",
   "execution_count": null,
   "metadata": {},
   "outputs": [],
   "source": [
    "import openreview\n",
    "\n",
    "client1 = openreview.Client(baseurl=\"https://api.openreview.net\")\n",
    "client2 = openreview.api.OpenReviewClient(baseurl=\"https://api2.openreview.net\")"
   ]
  },
  {
   "cell_type": "markdown",
   "metadata": {},
   "source": [
    "### all invitations"
   ]
  },
  {
   "cell_type": "code",
   "execution_count": null,
   "metadata": {},
   "outputs": [],
   "source": [
    "venues = client2.get_group(id='venues').members\n",
    "print(venues)"
   ]
  },
  {
   "cell_type": "code",
   "execution_count": null,
   "metadata": {},
   "outputs": [],
   "source": [
    "# https://docs.openreview.net/how-to-guides/data-retrieval-and-modification/how-to-get-all-submissions\n",
    "accepted_submissions = client2.get_all_notes(content={\"venueid\": \"NeurIPS.cc/2023/Conference\"} )"
   ]
  },
  {
   "cell_type": "code",
   "execution_count": null,
   "metadata": {},
   "outputs": [],
   "source": [
    "all_submissions = client2.get_all_notes(invitation=\"NeurIPS.cc/2023/Conference/-/Submission\")"
   ]
  },
  {
   "cell_type": "markdown",
   "metadata": {},
   "source": [
    "### paper invitations"
   ]
  },
  {
   "cell_type": "code",
   "execution_count": null,
   "metadata": {},
   "outputs": [],
   "source": [
    "# https://openreview.net/forum?id=cVwc7IHWEWi\n",
    "paper_id = \"vq11gurmUY\"\n",
    "notes = client2.get_notes(forum=paper_id)\n",
    "for note in notes:\n",
    "    #print(note.invitation)\n",
    "    print(note.invitations)"
   ]
  },
  {
   "cell_type": "code",
   "execution_count": null,
   "metadata": {},
   "outputs": [],
   "source": [
    "# decisions: https://docs.openreview.net/how-to-guides/data-retrieval-and-modification/how-to-get-all-decisions"
   ]
  }
 ],
 "metadata": {
  "kernelspec": {
   "display_name": "Python 3 (ipykernel)",
   "language": "python",
   "name": "python3"
  },
  "language_info": {
   "codemirror_mode": {
    "name": "ipython",
    "version": 3
   },
   "file_extension": ".py",
   "mimetype": "text/x-python",
   "name": "python",
   "nbconvert_exporter": "python",
   "pygments_lexer": "ipython3",
   "version": "3.8.16"
  }
 },
 "nbformat": 4,
 "nbformat_minor": 4
}
